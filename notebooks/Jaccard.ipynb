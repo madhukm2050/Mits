{
 "cells": [
  {
   "cell_type": "code",
   "id": "initial_id",
   "metadata": {
    "collapsed": true,
    "ExecuteTime": {
     "end_time": "2024-08-29T09:04:48.036571Z",
     "start_time": "2024-08-29T09:04:39.019766Z"
    }
   },
   "source": [
    "from Mits_AI_Dreamers.Similarity.overlapcofficient import overlapCoefficient\n",
    "String1 = input(\"Enter a string1: \")\n",
    "String2 = input(\"Enter a string2: \")\n",
    "\n",
    "overlapcoeff = overlapCoefficient(String1,String2)\n",
    "print(\"The overlap coefficient of \",String1, \"and \",String2,\" is:\",overlapcoeff.findOverlapCoefficient())"
   ],
   "outputs": [
    {
     "name": "stdout",
     "output_type": "stream",
     "text": [
      "The overlap coefficient of  madhu and  madhu  is: 1.0\n"
     ]
    }
   ],
   "execution_count": 23
  },
  {
   "metadata": {},
   "cell_type": "code",
   "outputs": [],
   "execution_count": null,
   "source": "",
   "id": "1325c87862108f80"
  }
 ],
 "metadata": {
  "kernelspec": {
   "display_name": "Python 3",
   "language": "python",
   "name": "python3"
  },
  "language_info": {
   "codemirror_mode": {
    "name": "ipython",
    "version": 2
   },
   "file_extension": ".py",
   "mimetype": "text/x-python",
   "name": "python",
   "nbconvert_exporter": "python",
   "pygments_lexer": "ipython2",
   "version": "2.7.6"
  }
 },
 "nbformat": 4,
 "nbformat_minor": 5
}
