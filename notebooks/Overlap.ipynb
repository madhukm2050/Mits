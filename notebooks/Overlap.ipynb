{
 "cells": [
  {
   "cell_type": "code",
   "id": "initial_id",
   "metadata": {
    "collapsed": true,
    "ExecuteTime": {
     "end_time": "2024-08-29T09:08:10.143738Z",
     "start_time": "2024-08-29T09:08:00.813336Z"
    }
   },
   "source": [
    "from Mits_AI_Dreamers.Similarity.jaccardcoefficient import JaccardCoefficient\n",
    "String1 = input(\"Enter a string1: \")\n",
    "String2 = input(\"Enter a string2: \")\n",
    "\n",
    "jaccardcoeff = JaccardCoefficient(String1,String2)\n",
    "print(\"The overlap coefficient of \",String1, \"and \",String2,\" is:\",jaccardcoeff.findJaccardCoefficient())"
   ],
   "outputs": [
    {
     "name": "stdout",
     "output_type": "stream",
     "text": [
      "The overlap coefficient of  madhu and  madhu  is: 1.0\n"
     ]
    }
   ],
   "execution_count": 7
  },
  {
   "metadata": {},
   "cell_type": "code",
   "outputs": [],
   "execution_count": null,
   "source": "",
   "id": "1a8068c8c578a987"
  }
 ],
 "metadata": {
  "kernelspec": {
   "display_name": "Python 3",
   "language": "python",
   "name": "python3"
  },
  "language_info": {
   "codemirror_mode": {
    "name": "ipython",
    "version": 2
   },
   "file_extension": ".py",
   "mimetype": "text/x-python",
   "name": "python",
   "nbconvert_exporter": "python",
   "pygments_lexer": "ipython2",
   "version": "2.7.6"
  }
 },
 "nbformat": 4,
 "nbformat_minor": 5
}
