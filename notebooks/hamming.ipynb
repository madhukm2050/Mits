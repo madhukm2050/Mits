{
 "cells": [
  {
   "cell_type": "code",
   "id": "initial_id",
   "metadata": {
    "collapsed": true,
    "ExecuteTime": {
     "end_time": "2024-08-29T08:11:10.280561Z",
     "start_time": "2024-08-29T08:11:10.259038Z"
    }
   },
   "source": [
    "from Mits_AI_Dreamers.Similarity.hammingdistance import HammingDistance\n",
    "\n",
    "hamming_distance=HammingDistance(\"Data Science\",\"Machine Lear\")\n",
    "hamming_distance.findHammingDistance()"
   ],
   "outputs": [
    {
     "name": "stdout",
     "output_type": "stream",
     "text": [
      "The jaccordCoefficent between the strings Data Science and  Machine Lear  is  11\n"
     ]
    }
   ],
   "execution_count": 1
  },
  {
   "metadata": {},
   "cell_type": "code",
   "outputs": [],
   "execution_count": null,
   "source": "",
   "id": "18cc760c6c9f489f"
  }
 ],
 "metadata": {
  "kernelspec": {
   "display_name": "Python 3",
   "language": "python",
   "name": "python3"
  },
  "language_info": {
   "codemirror_mode": {
    "name": "ipython",
    "version": 2
   },
   "file_extension": ".py",
   "mimetype": "text/x-python",
   "name": "python",
   "nbconvert_exporter": "python",
   "pygments_lexer": "ipython2",
   "version": "2.7.6"
  }
 },
 "nbformat": 4,
 "nbformat_minor": 5
}
